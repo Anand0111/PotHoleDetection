{
  "nbformat": 4,
  "nbformat_minor": 0,
  "metadata": {
    "colab": {
      "name": "PotHoleDetection.ipynb",
      "provenance": [],
      "authorship_tag": "ABX9TyNOeA4Hi75aukUIgdNSZWj0",
      "include_colab_link": true
    },
    "kernelspec": {
      "name": "python3",
      "display_name": "Python 3"
    },
    "language_info": {
      "name": "python"
    }
  },
  "cells": [
    {
      "cell_type": "markdown",
      "metadata": {
        "id": "view-in-github",
        "colab_type": "text"
      },
      "source": [
        "<a href=\"https://colab.research.google.com/github/Anand0111/PotHoleDetection/blob/main/PotHoleDetection.ipynb\" target=\"_parent\"><img src=\"https://colab.research.google.com/assets/colab-badge.svg\" alt=\"Open In Colab\"/></a>"
      ]
    },
    {
      "cell_type": "code",
      "metadata": {
        "id": "_WOkQxy9Cny9"
      },
      "source": [
        "import cv2\n",
        "import pygame\n",
        "pygame.init()\n",
        "pygame.mixer.music.load('buzzer.wav')\n",
        "import smtplib\n",
        "import pygame\n",
        "from matplotlib import pyplot as plt\n",
        "# Image Processing Techniques such as Contour, Canny Edge detection, Thresholding, Blurring is applied in the below function.\n",
        "def sketch_transform(image):\n",
        "    \n",
        "    image_grayscale = cv2.cvtColor(image, cv2.COLOR_BGR2GRAY)\n",
        "    image_grayscale_blurred = cv2.GaussianBlur(image_grayscale, (7,7), 0)\n",
        "    image_canny = cv2.Canny(image_grayscale_blurred, 1, 220)\n",
        "    _, mask = image_canny_inverted = cv2.threshold(image_canny,250, 255, cv2.THRESH_BINARY_INV)\n",
        "    contours =  cv2.findContours(mask,cv2.RETR_TREE,cv2.CHAIN_APPROX_SIMPLE)[-2]\n",
        "    for c in contours:\n",
        "        area=cv2.contourArea(c)\n",
        "        if area>150:\n",
        "            cv2.drawContours(mask, [c], -1, (0,0,255), 1)\n",
        "            rect = cv2.boundingRect(c)\n",
        "            if rect[2] < 20 or rect[3] < 20: \n",
        "                continue\n",
        "           \n",
        "            x,y,w,h = rect\n",
        "            cv2.rectangle(mask,(x,y),(x+w,y+h),(0,255,0),3)\n",
        "         \n",
        "            cv2.putText(mask,'ALERT!!!',(x+w+40,y+h),1,2.0,(0,0,255))\n",
        "           \n",
        "            pygame.mixer.music.play()\n",
        "            pygame.time.wait(100)\n",
        "\n",
        "            plt.title(\"Moth Detected Pothole Image\")\n",
        "\n",
        "    return mask\n",
        "\n",
        "# The video input is received and processed.\n",
        "cam_capture = cv2.VideoCapture(\"videoplayback.mp4\")\n",
        "\n",
        "fcc=cv2.VideoWriter_fourcc(*'XVID')\n",
        "out=cv2.VideoWriter('test.mp4',fcc,5,(850,720))\n",
        "\n",
        "\n",
        "upper_left = (50,50)\n",
        "bottom_right = (350,400)\n",
        "while True:\n",
        "    _, image_frame = cam_capture.read()\n",
        "    image_frame=cv2.resize(image_frame,(500,500),fx=0,fy=0,interpolation=cv2.INTER_CUBIC)\n",
        "    \n",
        "    r = cv2.rectangle(image_frame, upper_left, bottom_right, (0, 0,255), 8)\n",
        "    rect_img = image_frame[upper_left[1] : bottom_right[1], upper_left[0] : bottom_right[0]]\n",
        "    \n",
        "    sketcher_rect = rect_img\n",
        "    sketcher_rect = sketch_transform(sketcher_rect)\n",
        "\n",
        "\n",
        "    sketcher_rect_rgb = cv2.cvtColor(sketcher_rect, cv2.COLOR_GRAY2RGB)\n",
        "    \n",
        "    \n",
        "    image_frame[upper_left[1] : bottom_right[1], upper_left[0] : bottom_right[0]] = sketcher_rect_rgb\n",
        "    cv2.imshow(\"Sketcher ROI\", image_frame)\n",
        "    if cv2.waitKey(1) & 0xFF == ord('q'):\n",
        "        break\n",
        "        \n",
        "cam_capture.release()\n",
        "cv2.destroyAllWindows()"
      ],
      "execution_count": null,
      "outputs": []
    },
    {
      "cell_type": "code",
      "metadata": {
        "id": "C8KWe8KMC_84"
      },
      "source": [
        "import smtplib\n",
        "\n",
        "server = smtplib.SMTP_SSL(\"smtp.gmail.com\", 465)\n",
        "server.login(\"youremail@gmail.com\", \"password\")\n",
        "server.sendmail(\"youremail@gmail.com\",\n",
        "                \"sendermail@gmail.com\",\n",
        "                \"Subject:ALERT!!!\\n\\n\"\n",
        "                \"Pothole Detected\\n\\n\"\n",
        "                \"This is an information regarding a pothole that was detected by a user.For more information please contact the user via the same mail address.\\n\"\n",
        "                \"Make sure to address this public concern.\\n\\n\"\n",
        "                \"Thank You\")\n",
        "server.quit()\n",
        "#Email addresses and passwords are deliberately removed.\n",
        "#Instead of youremail@gmail.com place Your email address, same is true for the sender's side as well."
      ],
      "execution_count": null,
      "outputs": []
    }
  ]
}